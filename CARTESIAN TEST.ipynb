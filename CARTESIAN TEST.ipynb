{
 "cells": [
  {
   "cell_type": "markdown",
   "id": "c00b816b",
   "metadata": {},
   "source": [
    "# The problem Statement\n",
    "The program takes input a short abstract and outputs the following\n",
    "\n",
    "\n",
    "•prints each word in reverse.  \n",
    "\n",
    "\n",
    "•prints Top 2 occurring words in sorted order. The words that have occurred most of the time.\n"
   ]
  },
  {
   "cell_type": "markdown",
   "id": "44a4ecd7",
   "metadata": {},
   "source": [
    "# Input word in reverse."
   ]
  },
  {
   "cell_type": "code",
   "execution_count": 13,
   "id": "18f4d924",
   "metadata": {},
   "outputs": [
    {
     "name": "stdout",
     "output_type": "stream",
     "text": [
      "This declaration represents a political commitment among declaration partners to advance a positive vision for the Internet in this era of a united europe\n",
      "Europe united a of era this in internet the for vision positive a advance to partners declaration among commitment political a represents declaration this\n"
     ]
    }
   ],
   "source": [
    "a=input()\n",
    "st=a.lower()\n",
    "s=st.split()[::-1]\n",
    "l=[]\n",
    "for i in s:\n",
    "    l.append(i)\n",
    "print(\" \".join(l).capitalize())"
   ]
  },
  {
   "cell_type": "markdown",
   "id": "e5a61dff",
   "metadata": {},
   "source": [
    "# Top 2 occurring words in sorted order. The words that have occurred most of the time."
   ]
  },
  {
   "cell_type": "code",
   "execution_count": 14,
   "id": "7ee058bf",
   "metadata": {},
   "outputs": [
    {
     "name": "stdout",
     "output_type": "stream",
     "text": [
      "('a', 3) ('this', 2)\n"
     ]
    }
   ],
   "source": [
    "from collections import Counter\n",
    "split_it = st.split()\n",
    "Counter = Counter(split_it)\n",
    "most_occur = Counter.most_common(4) \n",
    "print(most_occur[0],most_occur[1])"
   ]
  },
  {
   "cell_type": "code",
   "execution_count": null,
   "id": "50701c8f",
   "metadata": {},
   "outputs": [],
   "source": []
  }
 ],
 "metadata": {
  "kernelspec": {
   "display_name": "Python 3 (ipykernel)",
   "language": "python",
   "name": "python3"
  },
  "language_info": {
   "codemirror_mode": {
    "name": "ipython",
    "version": 3
   },
   "file_extension": ".py",
   "mimetype": "text/x-python",
   "name": "python",
   "nbconvert_exporter": "python",
   "pygments_lexer": "ipython3",
   "version": "3.9.7"
  }
 },
 "nbformat": 4,
 "nbformat_minor": 5
}
